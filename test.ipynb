{
 "cells": [
  {
   "cell_type": "code",
   "execution_count": 1,
   "metadata": {},
   "outputs": [],
   "source": [
    "from ddsp.encoders import ResNetAutoencoder\n",
    "from ddsp.model import DDSP\n",
    "import torch\n",
    "import librosa as li\n",
    "\n",
    "#model = ResNetAutoencoder()"
   ]
  },
  {
   "cell_type": "code",
   "execution_count": 2,
   "metadata": {},
   "outputs": [],
   "source": [
    "x, _ = li.load('idmt_dataset4/acoustic_mic_fast_classical_classical_1_80BPM.wav', sr=16000)"
   ]
  },
  {
   "cell_type": "code",
   "execution_count": 3,
   "metadata": {},
   "outputs": [],
   "source": [
    "model = DDSP()"
   ]
  },
  {
   "cell_type": "code",
   "execution_count": 4,
   "metadata": {},
   "outputs": [
    {
     "name": "stderr",
     "output_type": "stream",
     "text": [
      "[W NNPACK.cpp:64] Could not initialize NNPACK! Reason: Unsupported hardware.\n"
     ]
    }
   ],
   "source": [
    "x = torch.tensor(x)\n",
    "x = x.unsqueeze(0)\n",
    "out = model(x)"
   ]
  },
  {
   "cell_type": "code",
   "execution_count": 5,
   "metadata": {},
   "outputs": [
    {
     "data": {
      "text/plain": [
       "torch.Size([1, 64000, 1])"
      ]
     },
     "execution_count": 5,
     "metadata": {},
     "output_type": "execute_result"
    }
   ],
   "source": [
    "out.shape"
   ]
  },
  {
   "cell_type": "code",
   "execution_count": null,
   "metadata": {},
   "outputs": [],
   "source": [
    "x = torch.tensor(x)\n",
    "x = x.unsqueeze(0)\n",
    "model(x)"
   ]
  },
  {
   "cell_type": "code",
   "execution_count": 5,
   "metadata": {},
   "outputs": [],
   "source": [
    "import torchaudio.transforms as T\n",
    "\n",
    "spec = T.MelSpectrogram(\n",
    "            sample_rate=16000,\n",
    "            n_fft=2048,\n",
    "            n_mels=64,\n",
    "            hop_length=int(2048 * (1.0 - 0.75)),\n",
    "            f_min=20.0,\n",
    "            f_max=8000.0, \n",
    "        )"
   ]
  },
  {
   "cell_type": "code",
   "execution_count": 9,
   "metadata": {},
   "outputs": [],
   "source": [
    "out = spec(x[:, :16000])"
   ]
  },
  {
   "cell_type": "code",
   "execution_count": 10,
   "metadata": {},
   "outputs": [
    {
     "data": {
      "text/plain": [
       "torch.Size([1, 64, 32])"
      ]
     },
     "execution_count": 10,
     "metadata": {},
     "output_type": "execute_result"
    }
   ],
   "source": [
    "out.shape"
   ]
  },
  {
   "cell_type": "code",
   "execution_count": 1,
   "metadata": {},
   "outputs": [],
   "source": [
    "import os\n",
    "\n",
    "def list_files(directory):\n",
    "    file_list = []\n",
    "    \n",
    "    if os.path.isdir(directory):\n",
    "        for file in os.listdir(directory):\n",
    "            file_path = os.path.join(directory, file)\n",
    "            if os.path.isfile(file_path) and file_path.split(\".\")[-1]==\"wav\":\n",
    "                file_list.append(file_path)\n",
    "    else:\n",
    "        print(f\"The directory '{directory}' does not exist.\")\n",
    "    \n",
    "    return file_list\n",
    "\n",
    "\n",
    "def change_file_name(old_path, new_name, new_directory=None):\n",
    "    try:\n",
    "        directory, filename = os.path.split(old_path)\n",
    "        if new_directory:\n",
    "            n = new_name+filename\n",
    "            new_path = os.path.join(new_directory, n)\n",
    "        else:\n",
    "            new_path = os.path.join(directory, new_name)\n",
    "        \n",
    "        os.rename(old_path, new_path)\n",
    "        \n",
    "    except FileExistsError:\n",
    "        print(f\"A file with the name '{new_name}' already exists.\")\n",
    "    except Exception as e:\n",
    "        print(f\"An error occurred: {str(e)}\")"
   ]
  },
  {
   "cell_type": "code",
   "execution_count": 5,
   "metadata": {},
   "outputs": [],
   "source": [
    "#nought = [\"career_sg\", \"ibaneze_2820\",\"acoustic_pickup\", \"acoustic_mic\"]\n",
    "nought = [\"acoustic_pickup\"]\n",
    "\n",
    "first = [\"fast\", \"slow\"]\n",
    "second = [\"classical\", \"country_folk\", \"jazz\", \"latin\", \"metal\", \"pop\", \"reggae_ska\", \"rock_blues\"]\n",
    "third = [\"audio\"]\n",
    "\n",
    "for n in nought:\n",
    "    for f in first:\n",
    "        for s in second:\n",
    "            for aud in third:\n",
    "                pth = f\"dataset4_copy/{n}/{f}/{s}/{aud}\"\n",
    "                files = list_files(pth)\n",
    "                for fl in files:\n",
    "                    new = f\"{n}_{f}_{s}_\"\n",
    "                    change_file_name(fl, new, new_directory=\"idmt_dataset4_acoustic_pickup\")\n"
   ]
  },
  {
   "cell_type": "code",
   "execution_count": 6,
   "metadata": {},
   "outputs": [],
   "source": [
    "import torch"
   ]
  },
  {
   "cell_type": "code",
   "execution_count": 13,
   "metadata": {},
   "outputs": [],
   "source": [
    "m = torch.ones(2,3,4)\n",
    "n = 2*torch.ones(2,3,4,6)\n",
    "\n",
    "s = torch.einsum(\"bsp,bspa->bsp\",m,n)"
   ]
  },
  {
   "cell_type": "code",
   "execution_count": 14,
   "metadata": {},
   "outputs": [
    {
     "data": {
      "text/plain": [
       "tensor([[[12., 12., 12., 12.],\n",
       "         [12., 12., 12., 12.],\n",
       "         [12., 12., 12., 12.]],\n",
       "\n",
       "        [[12., 12., 12., 12.],\n",
       "         [12., 12., 12., 12.],\n",
       "         [12., 12., 12., 12.]]])"
      ]
     },
     "execution_count": 14,
     "metadata": {},
     "output_type": "execute_result"
    }
   ],
   "source": [
    "s"
   ]
  },
  {
   "cell_type": "code",
   "execution_count": 11,
   "metadata": {},
   "outputs": [
    {
     "data": {
      "text/plain": [
       "tensor([[[1., 1., 1., 1.],\n",
       "         [1., 1., 1., 1.],\n",
       "         [1., 1., 1., 1.]],\n",
       "\n",
       "        [[1., 1., 1., 1.],\n",
       "         [1., 1., 1., 1.],\n",
       "         [1., 1., 1., 1.]]])"
      ]
     },
     "execution_count": 11,
     "metadata": {},
     "output_type": "execute_result"
    }
   ],
   "source": [
    "m"
   ]
  },
  {
   "cell_type": "code",
   "execution_count": 12,
   "metadata": {},
   "outputs": [
    {
     "data": {
      "text/plain": [
       "tensor([[[[2., 2., 2., 2., 2., 2.],\n",
       "          [2., 2., 2., 2., 2., 2.],\n",
       "          [2., 2., 2., 2., 2., 2.],\n",
       "          [2., 2., 2., 2., 2., 2.]],\n",
       "\n",
       "         [[2., 2., 2., 2., 2., 2.],\n",
       "          [2., 2., 2., 2., 2., 2.],\n",
       "          [2., 2., 2., 2., 2., 2.],\n",
       "          [2., 2., 2., 2., 2., 2.]],\n",
       "\n",
       "         [[2., 2., 2., 2., 2., 2.],\n",
       "          [2., 2., 2., 2., 2., 2.],\n",
       "          [2., 2., 2., 2., 2., 2.],\n",
       "          [2., 2., 2., 2., 2., 2.]]],\n",
       "\n",
       "\n",
       "        [[[2., 2., 2., 2., 2., 2.],\n",
       "          [2., 2., 2., 2., 2., 2.],\n",
       "          [2., 2., 2., 2., 2., 2.],\n",
       "          [2., 2., 2., 2., 2., 2.]],\n",
       "\n",
       "         [[2., 2., 2., 2., 2., 2.],\n",
       "          [2., 2., 2., 2., 2., 2.],\n",
       "          [2., 2., 2., 2., 2., 2.],\n",
       "          [2., 2., 2., 2., 2., 2.]],\n",
       "\n",
       "         [[2., 2., 2., 2., 2., 2.],\n",
       "          [2., 2., 2., 2., 2., 2.],\n",
       "          [2., 2., 2., 2., 2., 2.],\n",
       "          [2., 2., 2., 2., 2., 2.]]]])"
      ]
     },
     "execution_count": 12,
     "metadata": {},
     "output_type": "execute_result"
    }
   ],
   "source": [
    "n"
   ]
  },
  {
   "cell_type": "code",
   "execution_count": null,
   "metadata": {},
   "outputs": [],
   "source": []
  }
 ],
 "metadata": {
  "kernelspec": {
   "display_name": "ddsp",
   "language": "python",
   "name": "python3"
  },
  "language_info": {
   "codemirror_mode": {
    "name": "ipython",
    "version": 3
   },
   "file_extension": ".py",
   "mimetype": "text/x-python",
   "name": "python",
   "nbconvert_exporter": "python",
   "pygments_lexer": "ipython3",
   "version": "3.8.5"
  },
  "orig_nbformat": 4
 },
 "nbformat": 4,
 "nbformat_minor": 2
}
