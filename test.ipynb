{
 "cells": [
  {
   "cell_type": "code",
   "execution_count": 12,
   "metadata": {},
   "outputs": [],
   "source": [
    "import pathlib\n",
    "import librosa as li\n",
    "from tqdm import tqdm\n",
    "\n",
    "def get_files():\n",
    "    return list(pathlib.Path('/Users/red/projects/ddsp_pytorch').rglob(f\"*.wav\"))\n",
    "\n",
    "\n",
    "def preprocess(f, sampling_rate):\n",
    "    x, sr = li.load(f, sr=sampling_rate)\n",
    "    return x"
   ]
  },
  {
   "cell_type": "code",
   "execution_count": 13,
   "metadata": {},
   "outputs": [
    {
     "name": "stdout",
     "output_type": "stream",
     "text": [
      "[PosixPath('/Users/red/projects/ddsp_pytorch/first.wav'), PosixPath('/Users/red/projects/ddsp_pytorch/second.wav')]\n"
     ]
    },
    {
     "name": "stderr",
     "output_type": "stream",
     "text": [
      "  0%|          | 0/2 [00:00<?, ?it/s]/var/folders/5m/fmt8gbqd6zlcjspg_3526vh40000gn/T/ipykernel_67306/2112439531.py:10: UserWarning: PySoundFile failed. Trying audioread instead.\n",
      "  x, sr = li.load(f, sr=sampling_rate)\n",
      " 50%|█████     | 1/2 [00:00<00:00,  2.88it/s]/var/folders/5m/fmt8gbqd6zlcjspg_3526vh40000gn/T/ipykernel_67306/2112439531.py:10: UserWarning: PySoundFile failed. Trying audioread instead.\n",
      "  x, sr = li.load(f, sr=sampling_rate)\n",
      "100%|██████████| 2/2 [00:00<00:00,  3.06it/s]\n"
     ]
    }
   ],
   "source": [
    "files = get_files()\n",
    "print(files)\n",
    "signals = []\n",
    "pb = tqdm(files)\n",
    "for fl in pb:\n",
    "    x = preprocess(fl, 16000)\n",
    "    signals.append(x)"
   ]
  },
  {
   "cell_type": "code",
   "execution_count": 5,
   "metadata": {},
   "outputs": [
    {
     "data": {
      "text/plain": [
       "[PosixPath('/Users/red/projects/ddsp_pytorch/first.wav'),\n",
       " PosixPath('/Users/red/projects/ddsp_pytorch/second.wav')]"
      ]
     },
     "execution_count": 5,
     "metadata": {},
     "output_type": "execute_result"
    }
   ],
   "source": [
    "files"
   ]
  },
  {
   "cell_type": "code",
   "execution_count": null,
   "metadata": {},
   "outputs": [],
   "source": []
  }
 ],
 "metadata": {
  "kernelspec": {
   "display_name": "ddsp",
   "language": "python",
   "name": "python3"
  },
  "language_info": {
   "codemirror_mode": {
    "name": "ipython",
    "version": 3
   },
   "file_extension": ".py",
   "mimetype": "text/x-python",
   "name": "python",
   "nbconvert_exporter": "python",
   "pygments_lexer": "ipython3",
   "version": "3.8.5"
  },
  "orig_nbformat": 4
 },
 "nbformat": 4,
 "nbformat_minor": 2
}
