{
 "cells": [
  {
   "cell_type": "code",
   "execution_count": 1,
   "metadata": {},
   "outputs": [
    {
     "name": "stderr",
     "output_type": "stream",
     "text": [
      "/var/folders/5m/fmt8gbqd6zlcjspg_3526vh40000gn/T/ipykernel_59718/2453732362.py:7: UserWarning: PySoundFile failed. Trying audioread instead.\n",
      "  x, sr = li.load(f, sr=sampling_rate)\n",
      "/Users/red/.pyenv/versions/3.8.5/envs/analytics/lib/python3.8/site-packages/librosa/core/audio.py:184: FutureWarning: librosa.core.audio.__audioread_load\n",
      "\tDeprecated as of librosa version 0.10.0.\n",
      "\tIt will be removed in librosa version 1.0.\n",
      "  y, sr_native = __audioread_load(path, offset, duration, dtype)\n"
     ]
    }
   ],
   "source": [
    "from ddsp.encoders import MfccTimeDistributedRnnEncoder\n",
    "import librosa as li\n",
    "import numpy as np\n",
    "import torch\n",
    "\n",
    "def preprocess(f, sampling_rate, block_size, signal_length, oneshot, **kwargs):\n",
    "    x, sr = li.load(f, sr=sampling_rate)\n",
    "    N = (signal_length - len(x) % signal_length) % signal_length\n",
    "    x = np.pad(x, (0, N))\n",
    "\n",
    "    if oneshot:\n",
    "        x = x[..., :signal_length]\n",
    "\n",
    "\n",
    "    x = x.reshape(-1, signal_length)\n",
    "\n",
    "    return x\n",
    "\n",
    "model = MfccTimeDistributedRnnEncoder()\n",
    "audio = preprocess(\"first.wav\", 16000, 160, 64000, True)"
   ]
  },
  {
   "cell_type": "code",
   "execution_count": 2,
   "metadata": {},
   "outputs": [
    {
     "name": "stdout",
     "output_type": "stream",
     "text": [
      "torch.Size([1, 13, 251])\n",
      "torch.Size([1, 251, 32])\n"
     ]
    }
   ],
   "source": [
    "z = model(torch.tensor(audio))"
   ]
  },
  {
   "cell_type": "code",
   "execution_count": null,
   "metadata": {},
   "outputs": [],
   "source": []
  }
 ],
 "metadata": {
  "kernelspec": {
   "display_name": "ddsp",
   "language": "python",
   "name": "python3"
  },
  "language_info": {
   "codemirror_mode": {
    "name": "ipython",
    "version": 3
   },
   "file_extension": ".py",
   "mimetype": "text/x-python",
   "name": "python",
   "nbconvert_exporter": "python",
   "pygments_lexer": "ipython3",
   "version": "3.8.5"
  },
  "orig_nbformat": 4
 },
 "nbformat": 4,
 "nbformat_minor": 2
}
