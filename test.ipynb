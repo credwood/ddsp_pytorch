{
 "cells": [
  {
   "cell_type": "code",
   "execution_count": 1,
   "metadata": {},
   "outputs": [],
   "source": [
    "from ddsp.resnet import ResNetAutoencoder\n",
    "from ddsp.model import DDSP\n",
    "import torch\n",
    "import librosa as li\n",
    "\n",
    "#model = ResNetAutoencoder()"
   ]
  },
  {
   "cell_type": "code",
   "execution_count": 2,
   "metadata": {},
   "outputs": [],
   "source": [
    "x, _ = li.load('idmt_dataset4/acoustic_mic_fast_classical_classical_1_80BPM.wav', sr=16000)"
   ]
  },
  {
   "cell_type": "code",
   "execution_count": 3,
   "metadata": {},
   "outputs": [],
   "source": [
    "model = DDSP()"
   ]
  },
  {
   "cell_type": "code",
   "execution_count": null,
   "metadata": {},
   "outputs": [],
   "source": [
    "x = torch.tensor(x)\n",
    "x = x.unsqueeze(0)\n",
    "out = model(x)"
   ]
  },
  {
   "cell_type": "code",
   "execution_count": 5,
   "metadata": {},
   "outputs": [
    {
     "data": {
      "text/plain": [
       "torch.Size([1, 64000, 1])"
      ]
     },
     "execution_count": 5,
     "metadata": {},
     "output_type": "execute_result"
    }
   ],
   "source": [
    "out.shape"
   ]
  },
  {
   "cell_type": "code",
   "execution_count": null,
   "metadata": {},
   "outputs": [],
   "source": [
    "x = torch.tensor(x)\n",
    "x = x.unsqueeze(0)\n",
    "model(x)"
   ]
  },
  {
   "cell_type": "code",
   "execution_count": 5,
   "metadata": {},
   "outputs": [],
   "source": [
    "import torchaudio.transforms as T\n",
    "\n",
    "spec = T.MelSpectrogram(\n",
    "            sample_rate=16000,\n",
    "            n_fft=2048,\n",
    "            n_mels=64,\n",
    "            hop_length=int(2048 * (1.0 - 0.75)),\n",
    "            f_min=20.0,\n",
    "            f_max=8000.0, \n",
    "        )"
   ]
  },
  {
   "cell_type": "code",
   "execution_count": 9,
   "metadata": {},
   "outputs": [],
   "source": [
    "out = spec(x[:, :16000])"
   ]
  },
  {
   "cell_type": "code",
   "execution_count": 10,
   "metadata": {},
   "outputs": [
    {
     "data": {
      "text/plain": [
       "torch.Size([1, 64, 32])"
      ]
     },
     "execution_count": 10,
     "metadata": {},
     "output_type": "execute_result"
    }
   ],
   "source": [
    "out.shape"
   ]
  },
  {
   "cell_type": "code",
   "execution_count": 1,
   "metadata": {},
   "outputs": [],
   "source": [
    "import os\n",
    "\n",
    "def list_files(directory):\n",
    "    file_list = []\n",
    "    \n",
    "    if os.path.isdir(directory):\n",
    "        for file in os.listdir(directory):\n",
    "            file_path = os.path.join(directory, file)\n",
    "            if os.path.isfile(file_path) and file_path.split(\".\")[-1]==\"wav\":\n",
    "                file_list.append(file_path)\n",
    "    else:\n",
    "        print(f\"The directory '{directory}' does not exist.\")\n",
    "    \n",
    "    return file_list\n",
    "\n",
    "\n",
    "def change_file_name(old_path, new_name, new_directory=None):\n",
    "    try:\n",
    "        directory, filename = os.path.split(old_path)\n",
    "        if new_directory:\n",
    "            n = new_name+filename\n",
    "            new_path = os.path.join(new_directory, n)\n",
    "        else:\n",
    "            new_path = os.path.join(directory, new_name)\n",
    "        \n",
    "        os.rename(old_path, new_path)\n",
    "        \n",
    "    except FileExistsError:\n",
    "        print(f\"A file with the name '{new_name}' already exists.\")\n",
    "    except Exception as e:\n",
    "        print(f\"An error occurred: {str(e)}\")"
   ]
  }
 ],
 "metadata": {
  "kernelspec": {
   "display_name": "ddsp",
   "language": "python",
   "name": "python3"
  },
  "language_info": {
   "codemirror_mode": {
    "name": "ipython",
    "version": 3
   },
   "file_extension": ".py",
   "mimetype": "text/x-python",
   "name": "python",
   "nbconvert_exporter": "python",
   "pygments_lexer": "ipython3",
   "version": "3.8.5"
  },
  "orig_nbformat": 4
 },
 "nbformat": 4,
 "nbformat_minor": 2
}
