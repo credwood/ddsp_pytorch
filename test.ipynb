{
 "cells": [
  {
   "cell_type": "code",
   "execution_count": 3,
   "metadata": {},
   "outputs": [],
   "source": [
    "import os\n",
    "\n",
    "def list_files(directory):\n",
    "    file_list = []\n",
    "    \n",
    "    if os.path.isdir(directory):\n",
    "        for file in os.listdir(directory):\n",
    "            file_path = os.path.join(directory, file)\n",
    "            if os.path.isfile(file_path) and file_path.split(\".\")[-1]==\"wav\":\n",
    "                file_list.append(file_path)\n",
    "    else:\n",
    "        print(f\"The directory '{directory}' does not exist.\")\n",
    "    \n",
    "    return file_list\n",
    "\n",
    "\n",
    "def change_file_name(old_path, new_name, new_directory=None):\n",
    "    try:\n",
    "        directory, filename = os.path.split(old_path)\n",
    "        if new_directory:\n",
    "            n = new_name+filename\n",
    "            new_path = os.path.join(new_directory, n)\n",
    "        else:\n",
    "            new_path = os.path.join(directory, new_name)\n",
    "        \n",
    "        os.rename(old_path, new_path)\n",
    "        \n",
    "    except FileNotFoundError:\n",
    "        print(f\"The file '{old_path}' does not exist.\")\n",
    "    except FileExistsError:\n",
    "        print(f\"A file with the name '{new_name}' already exists.\")\n",
    "    except Exception as e:\n",
    "        print(f\"An error occurred: {str(e)}\")"
   ]
  },
  {
   "cell_type": "code",
   "execution_count": null,
   "metadata": {},
   "outputs": [],
   "source": [
    "nought = [\"career_sg\", \"ibaneze_2820\",\"acoustic_pickup\", \"acoustic_mic\"]\n",
    "first = [\"fast\", \"slow\"]\n",
    "second = [\"classical\", \"country_folk\", \"jazz\", \"latin\", \"metal\", \"pop\", \"reggae_ska\", \"rock_blues\"]\n",
    "third = [\"audio\"]\n",
    "\n",
    "for n in nought:\n",
    "    for f in first:\n",
    "        for s in second:\n",
    "            for aud in third:\n",
    "                pth = f\"dataset4/{n}/{f}/{s}/{aud}\"\n",
    "                files = list_files(pth)\n",
    "                for fl in files:\n",
    "                    new = f\"{n}_{f}_{s}_\"\n",
    "                    change_file_name(fl, new, new_directory=\"idmt_dataset4\")\n"
   ]
  },
  {
   "cell_type": "code",
   "execution_count": null,
   "metadata": {},
   "outputs": [],
   "source": []
  }
 ],
 "metadata": {
  "kernelspec": {
   "display_name": "ddsp",
   "language": "python",
   "name": "python3"
  },
  "language_info": {
   "codemirror_mode": {
    "name": "ipython",
    "version": 3
   },
   "file_extension": ".py",
   "mimetype": "text/x-python",
   "name": "python",
   "nbconvert_exporter": "python",
   "pygments_lexer": "ipython3",
   "version": "3.8.5"
  },
  "orig_nbformat": 4
 },
 "nbformat": 4,
 "nbformat_minor": 2
}
