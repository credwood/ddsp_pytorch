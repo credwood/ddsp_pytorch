{
 "cells": [
  {
   "cell_type": "code",
   "execution_count": 1,
   "metadata": {},
   "outputs": [],
   "source": [
    "from ddsp.encoders import ResNetAutoencoder\n",
    "import torch\n",
    "import librosa as li\n",
    "\n",
    "#model = ResNetAutoencoder()"
   ]
  },
  {
   "cell_type": "code",
   "execution_count": 2,
   "metadata": {},
   "outputs": [],
   "source": [
    "x, _ = li.load('idmt_dataset4/acoustic_mic_fast_classical_classical_1_80BPM.wav', sr=16000)"
   ]
  },
  {
   "cell_type": "code",
   "execution_count": 3,
   "metadata": {},
   "outputs": [],
   "source": [
    "from ddsp.model import DDSP\n",
    "\n",
    "model = DDSP()"
   ]
  },
  {
   "cell_type": "code",
   "execution_count": 4,
   "metadata": {},
   "outputs": [],
   "source": [
    "x = torch.tensor(x)\n",
    "x = x.unsqueeze(0)\n",
    "out = model(x)"
   ]
  },
  {
   "cell_type": "code",
   "execution_count": 6,
   "metadata": {},
   "outputs": [
    {
     "data": {
      "text/plain": [
       "torch.Size([1, 64000, 1])"
      ]
     },
     "execution_count": 6,
     "metadata": {},
     "output_type": "execute_result"
    }
   ],
   "source": [
    "out.shape"
   ]
  },
  {
   "cell_type": "code",
   "execution_count": 6,
   "metadata": {},
   "outputs": [
    {
     "name": "stdout",
     "output_type": "stream",
     "text": [
      "torch.Size([1, 250, 6400])\n",
      "torch.Size([1, 250, 101])\n",
      "torch.Size([1, 250, 60])\n"
     ]
    },
    {
     "ename": "RuntimeError",
     "evalue": "The size of tensor a (6400) must match the size of tensor b (100) at non-singleton dimension 2",
     "output_type": "error",
     "traceback": [
      "\u001b[0;31m---------------------------------------------------------------------------\u001b[0m",
      "\u001b[0;31mRuntimeError\u001b[0m                              Traceback (most recent call last)",
      "\u001b[1;32m/Users/red/projects/ddsp_pytorch/test.ipynb Cell 6\u001b[0m in \u001b[0;36m<cell line: 3>\u001b[0;34m()\u001b[0m\n\u001b[1;32m      <a href='vscode-notebook-cell:/Users/red/projects/ddsp_pytorch/test.ipynb#X32sZmlsZQ%3D%3D?line=0'>1</a>\u001b[0m x \u001b[39m=\u001b[39m torch\u001b[39m.\u001b[39mtensor(x)\n\u001b[1;32m      <a href='vscode-notebook-cell:/Users/red/projects/ddsp_pytorch/test.ipynb#X32sZmlsZQ%3D%3D?line=1'>2</a>\u001b[0m x \u001b[39m=\u001b[39m x\u001b[39m.\u001b[39munsqueeze(\u001b[39m0\u001b[39m)\n\u001b[0;32m----> <a href='vscode-notebook-cell:/Users/red/projects/ddsp_pytorch/test.ipynb#X32sZmlsZQ%3D%3D?line=2'>3</a>\u001b[0m model(x)\n",
      "File \u001b[0;32m~/opt/anaconda3/envs/ddsp/lib/python3.8/site-packages/torch/nn/modules/module.py:1501\u001b[0m, in \u001b[0;36mModule._call_impl\u001b[0;34m(self, *args, **kwargs)\u001b[0m\n\u001b[1;32m   1496\u001b[0m \u001b[39m# If we don't have any hooks, we want to skip the rest of the logic in\u001b[39;00m\n\u001b[1;32m   1497\u001b[0m \u001b[39m# this function, and just call forward.\u001b[39;00m\n\u001b[1;32m   1498\u001b[0m \u001b[39mif\u001b[39;00m \u001b[39mnot\u001b[39;00m (\u001b[39mself\u001b[39m\u001b[39m.\u001b[39m_backward_hooks \u001b[39mor\u001b[39;00m \u001b[39mself\u001b[39m\u001b[39m.\u001b[39m_backward_pre_hooks \u001b[39mor\u001b[39;00m \u001b[39mself\u001b[39m\u001b[39m.\u001b[39m_forward_hooks \u001b[39mor\u001b[39;00m \u001b[39mself\u001b[39m\u001b[39m.\u001b[39m_forward_pre_hooks\n\u001b[1;32m   1499\u001b[0m         \u001b[39mor\u001b[39;00m _global_backward_pre_hooks \u001b[39mor\u001b[39;00m _global_backward_hooks\n\u001b[1;32m   1500\u001b[0m         \u001b[39mor\u001b[39;00m _global_forward_hooks \u001b[39mor\u001b[39;00m _global_forward_pre_hooks):\n\u001b[0;32m-> 1501\u001b[0m     \u001b[39mreturn\u001b[39;00m forward_call(\u001b[39m*\u001b[39;49margs, \u001b[39m*\u001b[39;49m\u001b[39m*\u001b[39;49mkwargs)\n\u001b[1;32m   1502\u001b[0m \u001b[39m# Do not call functions when jit is used\u001b[39;00m\n\u001b[1;32m   1503\u001b[0m full_backward_hooks, non_full_backward_hooks \u001b[39m=\u001b[39m [], []\n",
      "File \u001b[0;32m~/projects/ddsp_pytorch/ddsp/model.py:88\u001b[0m, in \u001b[0;36mDDSP.forward\u001b[0;34m(self, s, pitch, loudness)\u001b[0m\n\u001b[1;32m     85\u001b[0m total_amp \u001b[39m=\u001b[39m param[\u001b[39m.\u001b[39m\u001b[39m.\u001b[39m\u001b[39m.\u001b[39m, :\u001b[39m1\u001b[39m]\n\u001b[1;32m     86\u001b[0m amplitudes \u001b[39m=\u001b[39m param[\u001b[39m.\u001b[39m\u001b[39m.\u001b[39m\u001b[39m.\u001b[39m, \u001b[39m1\u001b[39m:]\n\u001b[0;32m---> 88\u001b[0m amplitudes \u001b[39m=\u001b[39m remove_above_nyquist(\n\u001b[1;32m     89\u001b[0m     amplitudes,\n\u001b[1;32m     90\u001b[0m     pitch,\n\u001b[1;32m     91\u001b[0m     \u001b[39mself\u001b[39;49m\u001b[39m.\u001b[39;49msampling_rate,\n\u001b[1;32m     92\u001b[0m )\n\u001b[1;32m     93\u001b[0m amplitudes \u001b[39m/\u001b[39m\u001b[39m=\u001b[39m amplitudes\u001b[39m.\u001b[39msum(\u001b[39m-\u001b[39m\u001b[39m1\u001b[39m, keepdim\u001b[39m=\u001b[39m\u001b[39mTrue\u001b[39;00m)\n\u001b[1;32m     94\u001b[0m amplitudes \u001b[39m*\u001b[39m\u001b[39m=\u001b[39m total_amp\n",
      "File \u001b[0;32m~/projects/ddsp_pytorch/ddsp/core.py:117\u001b[0m, in \u001b[0;36mremove_above_nyquist\u001b[0;34m(amplitudes, pitch, sampling_rate)\u001b[0m\n\u001b[1;32m    115\u001b[0m \u001b[39mdef\u001b[39;00m \u001b[39mremove_above_nyquist\u001b[39m(amplitudes, pitch, sampling_rate):\n\u001b[1;32m    116\u001b[0m     n_harm \u001b[39m=\u001b[39m amplitudes\u001b[39m.\u001b[39mshape[\u001b[39m-\u001b[39m\u001b[39m1\u001b[39m]\n\u001b[0;32m--> 117\u001b[0m     pitches \u001b[39m=\u001b[39m pitch \u001b[39m*\u001b[39;49m torch\u001b[39m.\u001b[39;49marange(\u001b[39m1\u001b[39;49m, n_harm \u001b[39m+\u001b[39;49m \u001b[39m1\u001b[39;49m)\u001b[39m.\u001b[39;49mto(pitch)\n\u001b[1;32m    118\u001b[0m     aa \u001b[39m=\u001b[39m (pitches \u001b[39m<\u001b[39m sampling_rate \u001b[39m/\u001b[39m \u001b[39m2\u001b[39m)\u001b[39m.\u001b[39mfloat() \u001b[39m+\u001b[39m \u001b[39m1e-4\u001b[39m\n\u001b[1;32m    119\u001b[0m     \u001b[39mreturn\u001b[39;00m amplitudes \u001b[39m*\u001b[39m aa\n",
      "\u001b[0;31mRuntimeError\u001b[0m: The size of tensor a (6400) must match the size of tensor b (100) at non-singleton dimension 2"
     ]
    }
   ],
   "source": [
    "x = torch.tensor(x)\n",
    "x = x.unsqueeze(0)\n",
    "model(x)"
   ]
  },
  {
   "cell_type": "code",
   "execution_count": 5,
   "metadata": {},
   "outputs": [],
   "source": [
    "import torchaudio.transforms as T\n",
    "\n",
    "spec = T.MelSpectrogram(\n",
    "            sample_rate=16000,\n",
    "            n_fft=2048,\n",
    "            n_mels=64,\n",
    "            hop_length=int(2048 * (1.0 - 0.75)),\n",
    "            f_min=20.0,\n",
    "            f_max=8000.0, \n",
    "        )"
   ]
  },
  {
   "cell_type": "code",
   "execution_count": 9,
   "metadata": {},
   "outputs": [],
   "source": [
    "out = spec(x[:, :16000])"
   ]
  },
  {
   "cell_type": "code",
   "execution_count": 10,
   "metadata": {},
   "outputs": [
    {
     "data": {
      "text/plain": [
       "torch.Size([1, 64, 32])"
      ]
     },
     "execution_count": 10,
     "metadata": {},
     "output_type": "execute_result"
    }
   ],
   "source": [
    "out.shape"
   ]
  },
  {
   "cell_type": "code",
   "execution_count": 1,
   "metadata": {},
   "outputs": [],
   "source": [
    "import os\n",
    "\n",
    "def list_files(directory):\n",
    "    file_list = []\n",
    "    \n",
    "    if os.path.isdir(directory):\n",
    "        for file in os.listdir(directory):\n",
    "            file_path = os.path.join(directory, file)\n",
    "            if os.path.isfile(file_path) and file_path.split(\".\")[-1]==\"wav\":\n",
    "                file_list.append(file_path)\n",
    "    else:\n",
    "        print(f\"The directory '{directory}' does not exist.\")\n",
    "    \n",
    "    return file_list\n",
    "\n",
    "\n",
    "def change_file_name(old_path, new_name, new_directory=None):\n",
    "    try:\n",
    "        directory, filename = os.path.split(old_path)\n",
    "        if new_directory:\n",
    "            n = new_name+filename\n",
    "            new_path = os.path.join(new_directory, n)\n",
    "        else:\n",
    "            new_path = os.path.join(directory, new_name)\n",
    "        \n",
    "        os.rename(old_path, new_path)\n",
    "        \n",
    "    except FileExistsError:\n",
    "        print(f\"A file with the name '{new_name}' already exists.\")\n",
    "    except Exception as e:\n",
    "        print(f\"An error occurred: {str(e)}\")"
   ]
  },
  {
   "cell_type": "code",
   "execution_count": 5,
   "metadata": {},
   "outputs": [],
   "source": [
    "#nought = [\"career_sg\", \"ibaneze_2820\",\"acoustic_pickup\", \"acoustic_mic\"]\n",
    "nought = [\"acoustic_pickup\"]\n",
    "\n",
    "first = [\"fast\", \"slow\"]\n",
    "second = [\"classical\", \"country_folk\", \"jazz\", \"latin\", \"metal\", \"pop\", \"reggae_ska\", \"rock_blues\"]\n",
    "third = [\"audio\"]\n",
    "\n",
    "for n in nought:\n",
    "    for f in first:\n",
    "        for s in second:\n",
    "            for aud in third:\n",
    "                pth = f\"dataset4_copy/{n}/{f}/{s}/{aud}\"\n",
    "                files = list_files(pth)\n",
    "                for fl in files:\n",
    "                    new = f\"{n}_{f}_{s}_\"\n",
    "                    change_file_name(fl, new, new_directory=\"idmt_dataset4_acoustic_pickup\")\n"
   ]
  }
 ],
 "metadata": {
  "kernelspec": {
   "display_name": "ddsp",
   "language": "python",
   "name": "python3"
  },
  "language_info": {
   "codemirror_mode": {
    "name": "ipython",
    "version": 3
   },
   "file_extension": ".py",
   "mimetype": "text/x-python",
   "name": "python",
   "nbconvert_exporter": "python",
   "pygments_lexer": "ipython3",
   "version": "3.8.5"
  },
  "orig_nbformat": 4
 },
 "nbformat": 4,
 "nbformat_minor": 2
}
